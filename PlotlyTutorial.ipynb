{
 "cells": [
  {
   "cell_type": "code",
   "execution_count": 1,
   "metadata": {
    "collapsed": true
   },
   "outputs": [],
   "source": [
    "import plotly \n",
    "plotly.tools.set_credentials_file(username='tutorial.account', api_key='gxa2ckhtj2')"
   ]
  },
  {
   "cell_type": "code",
   "execution_count": 2,
   "metadata": {
    "collapsed": false
   },
   "outputs": [
    {
     "name": "stdout",
     "output_type": "stream",
     "text": [
      "High five! You successfuly sent some data to your account on plotly. View your plot in your browser at https://plot.ly/~tutorial.account/0 or inside your plot.ly account where it is named 'waves-and-parabolas'\n"
     ]
    },
    {
     "data": {
      "text/html": [
       "<iframe id=\"igraph\" scrolling=\"no\" style=\"border:none;\" seamless=\"seamless\" src=\"https://plot.ly/~tutorial.account/0.embed\" height=\"525px\" width=\"100%\"></iframe>"
      ],
      "text/plain": [
       "<plotly.tools.PlotlyDisplay object>"
      ]
     },
     "execution_count": 2,
     "metadata": {},
     "output_type": "execute_result"
    }
   ],
   "source": [
    "from math import sin\n",
    "from numpy import linspace\n",
    "\n",
    "xdata = [x for x in linspace(-10,10,100)]\n",
    "\n",
    "# y1(x) = x^2\n",
    "y1_data = [x**2 for x in xdata]\n",
    "\n",
    "trace1 = {\n",
    "    'type': 'scatter',\n",
    "    'mode': 'line',\n",
    "    'x': xdata,\n",
    "    'y': y1_data\n",
    "}\n",
    "\n",
    "# y2(x) = 10sin(x)\n",
    "y2_data = [10*sin(x) for x in xdata]\n",
    "\n",
    "trace2 = {\n",
    "    'type': 'scatter',\n",
    "    'mode': 'line',\n",
    "    'line': {'dash': 'dash'},\n",
    "    'x': xdata,\n",
    "    'y': y2_data\n",
    "}\n",
    "\n",
    "data_traces = [trace1, trace2]\n",
    "\n",
    "layout = {\n",
    "    'title': 'Sine waves and Parabolas',\n",
    "    'xaxis': {'title': 'x'},\n",
    "    'yaxis': {'title': 'y(x)'}\n",
    "}\n",
    "\n",
    "\n",
    "from plotly.plotly import iplot\n",
    "\n",
    "# put the figure specification together\n",
    "figure = {\n",
    "    'data': data_traces, \n",
    "    'layout': layout\n",
    "}\n",
    "\n",
    "# visualize the figure\n",
    "iplot(\n",
    "    figure,\n",
    "    filename=\"waves-and-parabolas\"\n",
    ")"
   ]
  },
  {
   "cell_type": "code",
   "execution_count": 3,
   "metadata": {
    "collapsed": false
   },
   "outputs": [
    {
     "data": {
      "text/html": [
       "<iframe id=\"igraph\" scrolling=\"no\" style=\"border:none;\" seamless=\"seamless\" src=\"https://plot.ly/~tutorial.account/2.embed\" height=\"525px\" width=\"100%\"></iframe>"
      ],
      "text/plain": [
       "<plotly.tools.PlotlyDisplay object>"
      ]
     },
     "execution_count": 3,
     "metadata": {},
     "output_type": "execute_result"
    }
   ],
   "source": [
    "from numpy import linspace, meshgrid\n",
    "from plotly.graph_objs import Heatmap\n",
    "\n",
    "grid_points = linspace(-10,10,200)\n",
    "\n",
    "# X and Y are each 100 by 100 matrices\n",
    "x, y = meshgrid(grid_points, grid_points)\n",
    "\n",
    "zdata = x*x + y*y\n",
    "\n",
    "# Can use constructors in plotly.graph_objs\n",
    "# to generate plot traces\n",
    "trace = Heatmap(z=zdata)\n",
    "\n",
    "figure = {\n",
    "    'data': [trace],\n",
    "    'layout': {\n",
    "        # You can even use mathjax syntax\n",
    "        # for latex mode in strings\n",
    "        'title': '$$Z = X^2 + Y^2$$'\n",
    "    }\n",
    "}\n",
    "\n",
    "from plotly.plotly import iplot\n",
    "\n",
    "iplot(figure, filename=\"heatmap-blob\")"
   ]
  },
  {
   "cell_type": "code",
   "execution_count": 4,
   "metadata": {
    "collapsed": false
   },
   "outputs": [
    {
     "data": {
      "text/html": [
       "<iframe id=\"igraph\" scrolling=\"no\" style=\"border:none;\" seamless=\"seamless\" src=\"https://plot.ly/~tutorial.account/4.embed\" height=\"525px\" width=\"100%\"></iframe>"
      ],
      "text/plain": [
       "<plotly.tools.PlotlyDisplay object>"
      ]
     },
     "execution_count": 4,
     "metadata": {},
     "output_type": "execute_result"
    }
   ],
   "source": [
    "# Keeping everything \n",
    "# from the heatmap example\n",
    "# but changing the trace's \n",
    "# type to surface\n",
    "\n",
    "from plotly.graph_objs import Surface\n",
    "\n",
    "trace = Surface(z=zdata)\n",
    "\n",
    "figure = {\n",
    "    'data': [trace],\n",
    "    'layout': {\n",
    "        'title': '$$X^2 + Y^2$$'\n",
    "    }\n",
    "}\n",
    "\n",
    "iplot(figure, filename=\"surface-bowl\")"
   ]
  },
  {
   "cell_type": "code",
   "execution_count": 5,
   "metadata": {
    "collapsed": false
   },
   "outputs": [
    {
     "data": {
      "text/html": [
       "<iframe id=\"igraph\" scrolling=\"no\" style=\"border:none;\" seamless=\"seamless\" src=\"https://plot.ly/~tutorial.account/12.embed\" height=\"525px\" width=\"100%\"></iframe>"
      ],
      "text/plain": [
       "<plotly.tools.PlotlyDisplay object>"
      ]
     },
     "execution_count": 5,
     "metadata": {},
     "output_type": "execute_result"
    }
   ],
   "source": [
    "from numpy import linspace, meshgrid, gradient, exp\n",
    "\n",
    "x_range = linspace(-2,2,20)\n",
    "y_range = linspace(-2,2,16)\n",
    "\n",
    "x,y = meshgrid(x_range, y_range)\n",
    "\n",
    "z = x*exp(-x**2 - y**2)\n",
    "v, u = gradient(z)\n",
    "\n",
    "from plotly.tools import FigureFactory\n",
    "\n",
    "# Create quiver figure\n",
    "figure = FigureFactory.create_quiver(\n",
    "    x=x,\n",
    "    y=y,\n",
    "    u=u,\n",
    "    v=v,\n",
    "    scale=0.8,\n",
    "    arrow_scale=0.6,\n",
    "    name='quiver',\n",
    "    line=dict(width=1, color='black')\n",
    ")\n",
    "from plotly.plotly import iplot\n",
    "\n",
    "iplot(figure, filename='function-gradient-quiver')"
   ]
  },
  {
   "cell_type": "code",
   "execution_count": 6,
   "metadata": {
    "collapsed": false
   },
   "outputs": [
    {
     "data": {
      "text/html": [
       "<iframe id=\"igraph\" scrolling=\"no\" style=\"border:none;\" seamless=\"seamless\" src=\"https://plot.ly/~tutorial.account/6.embed\" height=\"525px\" width=\"100%\"></iframe>"
      ],
      "text/plain": [
       "<plotly.tools.PlotlyDisplay object>"
      ]
     },
     "execution_count": 6,
     "metadata": {},
     "output_type": "execute_result"
    }
   ],
   "source": [
    "from plotly.graph_objs import Scatter, Heatmap\n",
    "\n",
    "# Create points\n",
    "points = Scatter(\n",
    "    x=[-.7, .75], y=[0,0],\n",
    "    mode='markers',\n",
    "    marker=dict(size=12),\n",
    "    name='points'\n",
    ")\n",
    "\n",
    "heatmap = Heatmap(\n",
    "    x=x_range,\n",
    "    y=y_range,\n",
    "    z=z,\n",
    "    name=\"heatmap\"\n",
    ")\n",
    "\n",
    "# Add points to figure\n",
    "figure['data'].append(points)\n",
    "\n",
    "# Adds heatmap underlay\n",
    "figure['data'] = [heatmap] + figure['data']\n",
    "\n",
    "# Set figure title and hide legend\n",
    "figure['layout']['title'] = \"$$xe^{-x^2 - y^2}$$\"\n",
    "figure['layout']['showlegend'] = False\n",
    "\n",
    "from plotly.plotly import iplot\n",
    "\n",
    "iplot(figure, filename='function-gradient')"
   ]
  },
  {
   "cell_type": "code",
   "execution_count": 7,
   "metadata": {
    "collapsed": false
   },
   "outputs": [],
   "source": [
    "from pandas import read_csv\n",
    "\n",
    "data_frame = read_csv(\n",
    "    'https://raw.githubusercontent.com/plotly/datasets/master/2014_world_gdp_with_codes.csv'\n",
    ")"
   ]
  },
  {
   "cell_type": "code",
   "execution_count": 8,
   "metadata": {
    "collapsed": false
   },
   "outputs": [
    {
     "data": {
      "text/html": [
       "<iframe id=\"igraph\" scrolling=\"no\" style=\"border:none;\" seamless=\"seamless\" src=\"https://plot.ly/~tutorial.account/14.embed\" height=\"525px\" width=\"100%\"></iframe>"
      ],
      "text/plain": [
       "<plotly.tools.PlotlyDisplay object>"
      ]
     },
     "execution_count": 8,
     "metadata": {},
     "output_type": "execute_result"
    }
   ],
   "source": [
    "# Countries we're interested in.\n",
    "countries = ['BRA', 'CAN', 'CHE', 'RUS', 'BEL']\n",
    "\n",
    "# Subset of the data frame involving the above contries\n",
    "subset = data_frame[data_frame['CODE'].isin(countries)]\n",
    "\n",
    "# Create a dictionary mapping country code to GDP\n",
    "gdp = {}\n",
    "\n",
    "for index, row in subset.iterrows():\n",
    "    gdp[row['CODE']] = row['GDP (BILLIONS)']\n",
    "\n",
    "from random import random\n",
    "from copy import deepcopy\n",
    "\n",
    "def update_gdp(gdp):\n",
    "    copy_gdp = deepcopy(gdp)\n",
    "    for key in copy_gdp:\n",
    "        # Random gaussian growth rate between -0.20 and 0.20\n",
    "        value = copy_gdp[key]\n",
    "        growth_rate = (random()*2 - 1) * 0.2\n",
    "        copy_gdp[key] = value + value * growth_rate\n",
    "\n",
    "    return copy_gdp\n",
    "\n",
    "\n",
    "# Container for sequences of GDP updates\n",
    "gdp_sequences = {}\n",
    "\n",
    "# Append a gdp update to the sequences\n",
    "def append_gdp(gdp):\n",
    "    for key in countries:\n",
    "        gdp_sequences[key] = gdp_sequences.get(key, []) + [gdp[key]]\n",
    "\n",
    "# Initialize the sequence with some GDPs for each country\n",
    "append_gdp(gdp)\n",
    "\n",
    "# Generate a sequence of GDPs for each country\n",
    "for i in range(20):\n",
    "    append_gdp(update_gdp(gdp))\n",
    "\n",
    "    \n",
    "from plotly.graph_objs import Scatter\n",
    "\n",
    "def make_line(key):\n",
    "    return Scatter(\n",
    "        y=gdp_sequences[key], \n",
    "        name=key,\n",
    "        mode=\"line\"\n",
    "    )\n",
    "\n",
    "# Generate Line traces to plot in the figure\n",
    "line_traces = [make_line(key) for key in countries]\n",
    "\n",
    "layout = {\n",
    "    'title': 'GDP Snapshot',\n",
    "    'xaxis': {'title': 'Time (years)'},\n",
    "    'yaxis': {'title': 'GDP (BILLIONS)'}\n",
    "}\n",
    "\n",
    "figure_lines = {\n",
    "    'data': line_traces,\n",
    "    'layout': layout\n",
    "}\n",
    "\n",
    "\n",
    "from plotly.plotly import iplot\n",
    "\n",
    "iplot(figure_lines, filename=\"gdp-snapshot\")"
   ]
  },
  {
   "cell_type": "code",
   "execution_count": 9,
   "metadata": {
    "collapsed": false
   },
   "outputs": [
    {
     "data": {
      "text/html": [
       "<iframe id=\"igraph\" scrolling=\"no\" style=\"border:none;\" seamless=\"seamless\" src=\"https://plot.ly/~tutorial.account/16.embed\" height=\"525px\" width=\"100%\"></iframe>"
      ],
      "text/plain": [
       "<plotly.tools.PlotlyDisplay object>"
      ]
     },
     "execution_count": 9,
     "metadata": {},
     "output_type": "execute_result"
    }
   ],
   "source": [
    "from plotly.graph_objs import Bar\n",
    "\n",
    "# Generate Line traces to plot in the figure\n",
    "gdp_update = update_gdp(gdp)\n",
    "\n",
    "bar_trace = Bar(\n",
    "    x=countries,\n",
    "    y=[gdp_update[key] for key in countries],\n",
    "    name=\"GDP bars\"\n",
    ")\n",
    "\n",
    "layout = {\n",
    "    'title': 'GDP for One Year',\n",
    "    'xaxis': {'title': 'Country Code'},\n",
    "    'yaxis': {'title': 'GDP (BILLIONS)'}\n",
    "}\n",
    "\n",
    "figure_bar = {\n",
    "    # Plot a single bar chart\n",
    "    'data': [bar_trace],\n",
    "    'layout': layout\n",
    "}\n",
    "\n",
    "from plotly.plotly import iplot\n",
    "\n",
    "iplot(figure_bar, filename=\"gdp-bars\")"
   ]
  },
  {
   "cell_type": "code",
   "execution_count": 10,
   "metadata": {
    "collapsed": false
   },
   "outputs": [
    {
     "data": {
      "text/html": [
       "<iframe id=\"igraph\" scrolling=\"no\" style=\"border:none;\" seamless=\"seamless\" src=\"https://plot.ly/~tutorial.account/18.embed\" height=\"525px\" width=\"100%\"></iframe>"
      ],
      "text/plain": [
       "<plotly.tools.PlotlyDisplay object>"
      ]
     },
     "execution_count": 10,
     "metadata": {},
     "output_type": "execute_result"
    }
   ],
   "source": [
    "from plotly.graph_objs import Choropleth\n",
    "\n",
    "# Generate Line traces to plot in the figure\n",
    "gdp_update = update_gdp(gdp)\n",
    "\n",
    "choro_trace = Choropleth(\n",
    "    locations=countries,\n",
    "    z=[gdp_update[key] for key in countries],\n",
    "    name=\"GDP choropleth\",\n",
    "\n",
    "    # Configure the legend's color bar\n",
    "    colorbar = {\n",
    "        'tickprefix': '$',\n",
    "        'ticksuffix': 'B',\n",
    "        'title': 'GDP<br>Billions US$'\n",
    "    }\n",
    ")\n",
    "\n",
    "layout = {\n",
    "    'title': 'Map for GDP for One Year'\n",
    "}\n",
    "\n",
    "figure_choro = {\n",
    "    # Plot a single bar chart\n",
    "    'data': [choro_trace],\n",
    "    'layout': layout\n",
    "}\n",
    "\n",
    "from plotly.plotly import iplot\n",
    "\n",
    "iplot(figure_choro, filename=\"gdp-choropleth\")"
   ]
  },
  {
   "cell_type": "code",
   "execution_count": 11,
   "metadata": {
    "collapsed": false
   },
   "outputs": [
    {
     "name": "stdout",
     "output_type": "stream",
     "text": [
      "This is the format of your plot grid:\n",
      "[ (1,1) x1,y1 ]  [ (1,2) x2,y2 ]\n",
      "[ (2,1) x3,y3 ]  [ (2,2) x4,y4 ]\n",
      "\n"
     ]
    },
    {
     "data": {
      "text/html": [
       "<iframe id=\"igraph\" scrolling=\"no\" style=\"border:none;\" seamless=\"seamless\" src=\"https://plot.ly/~tutorial.account/20.embed\" height=\"525px\" width=\"100%\"></iframe>"
      ],
      "text/plain": [
       "<plotly.tools.PlotlyDisplay object>"
      ]
     },
     "execution_count": 11,
     "metadata": {},
     "output_type": "execute_result"
    }
   ],
   "source": [
    "from plotly.tools import make_subplots\n",
    "\n",
    "full_figure = make_subplots(\n",
    "    rows = 2,\n",
    "    cols = 2,\n",
    "    subplot_titles = (\n",
    "        'GDP Time Series',\n",
    "        'GDP for One Year',\n",
    "    )\n",
    ")\n",
    "\n",
    "# Hide choropleth color bar\n",
    "choro_trace['showscale'] = False\n",
    "\n",
    "\n",
    "# Set traces into their subplots    \n",
    "bar_trace['xaxis'] = 'x2'\n",
    "bar_trace['yaxis'] = 'y2'\n",
    "\n",
    "choro_trace['geo'] = 'geo3'\n",
    "\n",
    "\n",
    "# Accumulate traces into one array\n",
    "full_traces = [choro_trace, bar_trace] + line_traces\n",
    "\n",
    "# Set the traces of the sub plot figure\n",
    "full_figure['data'] = full_traces\n",
    "full_figure['layout']['title'] = 'GDP Sub Plot'\n",
    "\n",
    "full_figure['layout']['geo3'] = {\n",
    "    # set the position and size using relative viewspace positions\n",
    "    'domain': {'x': [0.0, 1.0], 'y': [0.0, 0.35]}\n",
    "}\n",
    "\n",
    "from plotly.plotly import iplot\n",
    "\n",
    "iplot(full_figure, filename=\"gdp-sub-plot\")"
   ]
  },
  {
   "cell_type": "code",
   "execution_count": 12,
   "metadata": {
    "collapsed": false
   },
   "outputs": [],
   "source": [
    "streaming_keys = [\n",
    "    'kqrbk2g9jo', 'brb0um2l0c', 'osv8zy33nh', \n",
    "    'q4wdes5yy0', 'z008j82eji', '51kncwir1s', \n",
    "    'c3ymqy6g1j'\n",
    "]\n",
    "\n",
    "\n",
    "MAX_POINTS = 60\n",
    "\n",
    "\n",
    "from plotly.graph_objs import Stream\n",
    "from plotly.plotly import Stream as plotlyStream\n",
    "\n",
    "stream_writers = {}\n",
    "\n",
    "i = 0\n",
    "stream_writers['lines'] = {}\n",
    "for line in line_traces:\n",
    "    stream = Stream(token=streaming_keys[i], maxpoints=MAX_POINTS)\n",
    "    stream_writers['lines'][line['name']] = plotlyStream(streaming_keys[i])\n",
    "    line['stream'] = stream\n",
    "    i += 1\n",
    "\n",
    "stream = Stream(token=streaming_keys[i], maxpoints=len(countries))\n",
    "stream_writers['bar'] = plotlyStream(streaming_keys[i])\n",
    "bar_trace['stream'] = stream\n",
    "\n",
    "i += 1\n",
    "\n",
    "stream = Stream(token=streaming_keys[i], maxpoints=len(countries))\n",
    "stream_writers['choro'] = plotlyStream(streaming_keys[i])\n",
    "choro_trace['stream'] = stream"
   ]
  },
  {
   "cell_type": "code",
   "execution_count": 42,
   "metadata": {
    "collapsed": false
   },
   "outputs": [
    {
     "data": {
      "text/html": [
       "<iframe id=\"igraph\" scrolling=\"no\" style=\"border:none;\" seamless=\"seamless\" src=\"https://plot.ly/~tutorial.account/22.embed\" height=\"525px\" width=\"100%\"></iframe>"
      ],
      "text/plain": [
       "<plotly.tools.PlotlyDisplay object>"
      ]
     },
     "execution_count": 42,
     "metadata": {},
     "output_type": "execute_result"
    }
   ],
   "source": [
    "def init_streams():\n",
    "    for line in line_traces:\n",
    "        stream_writers['lines'][line['name']].open()\n",
    "    stream_writers['bar'].open()\n",
    "    stream_writers['choro'].open()\n",
    "    \n",
    "def close_streams():\n",
    "    for line in line_traces:\n",
    "        stream_writers['lines'][line['name']].close()\n",
    "    stream_writers['bar'].close()\n",
    "    stream_writers['choro'].close()\n",
    "\n",
    "\n",
    "from time import sleep    \n",
    "\n",
    "def update_streams(streamed_gdp):\n",
    "    for line in line_traces:\n",
    "        stream_writers['lines'][line['name']].write({\n",
    "            'type': 'scatter',\n",
    "            'mode': 'line',\n",
    "            'y': streamed_gdp[line['name']]\n",
    "        })\n",
    "        # The server won't recieve data \n",
    "        # faster than 50 miliseconds at a time.\n",
    "        sleep(0.06)\n",
    "        \n",
    "    for country in countries:\n",
    "        stream_writers['bar'].write({\n",
    "            'type': 'bar',\n",
    "            'x': country,\n",
    "            'y': streamed_gdp[country]\n",
    "        })\n",
    "        sleep(0.06)\n",
    "        \n",
    "        stream_writers['choro'].write({\n",
    "            'type': 'choropleth',\n",
    "            'locations': country,\n",
    "            'z': streamed_gdp[country]\n",
    "        })\n",
    "        sleep(0.06)\n",
    "    \n",
    "    # Use our fake data generator \n",
    "    # from before to update GDPs\n",
    "    return update_gdp(streamed_gdp)\n",
    "\n",
    "# Accumulate traces into one array\n",
    "full_traces = [choro_trace, bar_trace] + line_traces\n",
    "\n",
    "# Set the traces of the sub plot figure\n",
    "full_figure['data'] = full_traces\n",
    "full_figure['layout']['title'] = 'GDP Streaming Sub Plot'\n",
    "\n",
    "full_figure['layout']['geo3'] = {\n",
    "    # set the position and size using relative viewspace positions\n",
    "    'domain': {'x': [0.0, 1.0], 'y': [0.0, 0.35]}\n",
    "}\n",
    "\n",
    "from plotly.plotly import plot\n",
    "\n",
    "iplot(full_figure, filename=\"gdp-sub-plot-streaming\")"
   ]
  },
  {
   "cell_type": "code",
   "execution_count": 45,
   "metadata": {
    "collapsed": false
   },
   "outputs": [],
   "source": [
    "init_streams()\n",
    "\n",
    "streamed_gdp = gdp\n",
    "for i in range(15):\n",
    "    streamed_gdp = update_streams(streamed_gdp)\n",
    "    sleep(0.5)\n",
    "\n",
    "close_streams()"
   ]
  },
  {
   "cell_type": "code",
   "execution_count": 15,
   "metadata": {
    "collapsed": false
   },
   "outputs": [
    {
     "data": {
      "text/html": [
       "<iframe id=\"igraph\" scrolling=\"no\" style=\"border:none;\" seamless=\"seamless\" src=\"https://plot.ly/~tutorial.account/8.embed\" height=\"525px\" width=\"100%\"></iframe>"
      ],
      "text/plain": [
       "<plotly.tools.PlotlyDisplay object>"
      ]
     },
     "execution_count": 15,
     "metadata": {},
     "output_type": "execute_result"
    }
   ],
   "source": [
    "from numpy import linspace, meshgrid, zeros\n",
    "\n",
    "x_range = linspace(-2,2,200)\n",
    "y_range = linspace(-2,2,200)\n",
    "\n",
    "x, y = meshgrid(x_range, y_range)\n",
    "\n",
    "c = x + y*1j\n",
    "\n",
    "def f(z,c):\n",
    "    return z**2 + c\n",
    "\n",
    "NUM_ITERATIONS = 40\n",
    "def mandelbrot(c):\n",
    "    z = zeros(c.shape)\n",
    "    iter_matrix = zeros(c.shape)\n",
    "    for i in range(NUM_ITERATIONS):\n",
    "        iter_matrix[z<2.0] = i\n",
    "        z = f(z,c)\n",
    "    iter_matrix = iter_matrix / float(NUM_ITERATIONS)\n",
    "    return iter_matrix\n",
    "\n",
    "mandelbrot_set = mandelbrot(c)\n",
    "\n",
    "\n",
    "colorscale=[\n",
    "    [0.0, 'rgb(20,29,67)'],\n",
    "    [0.1, 'rgb(28,76,96)'],\n",
    "    [0.2, 'rgb(16,125,121)'],\n",
    "    [0.3, 'rgb(92,166,133)'],\n",
    "    [0.4, 'rgb(182,202,175)'],\n",
    "    [0.5, 'rgb(253,245,243)'],\n",
    "    [0.6, 'rgb(230,183,162)'],\n",
    "    [0.7, 'rgb(211,118,105)'],\n",
    "    [0.8, 'rgb(174,63,95)'],\n",
    "    [0.9, 'rgb(116,25,93)'],\n",
    "    [1.0, 'rgb(51,13,53)']\n",
    "]\n",
    "\n",
    "from plotly.graph_objs import Surface\n",
    "\n",
    "# 3D surface of mandelbrot \n",
    "# set offset 1.0 units upward\n",
    "popout_layer = Surface(\n",
    "    x=x,\n",
    "    y=y,\n",
    "    z=mandelbrot_set + 1.0,\n",
    "    colorscale=colorscale\n",
    ")\n",
    "\n",
    "#Flat projection of mandelbrot set under 3d surface\n",
    "flat_layer = Surface(\n",
    "    x=x,\n",
    "    y=y,\n",
    "    z=zeros(mandelbrot_set.shape), # Make the projection flat\n",
    "    surfacecolor=mandelbrot_set,\n",
    "    colorscale=colorscale\n",
    ")\n",
    "\n",
    "data = [popout_layer, flat_layer]\n",
    "\n",
    "layout = {\n",
    "    'title': 'Mandelbrot Surface'\n",
    "}\n",
    "\n",
    "figure = {\n",
    "    'data': data,\n",
    "    'layout': layout\n",
    "}\n",
    "\n",
    "\n",
    "from plotly.plotly import iplot\n",
    "\n",
    "iplot(figure, filename=\"fractal-surface\")"
   ]
  }
 ],
 "metadata": {
  "kernelspec": {
   "display_name": "Python 3",
   "language": "python",
   "name": "python3"
  },
  "language_info": {
   "codemirror_mode": {
    "name": "ipython",
    "version": 3
   },
   "file_extension": ".py",
   "mimetype": "text/x-python",
   "name": "python",
   "nbconvert_exporter": "python",
   "pygments_lexer": "ipython3",
   "version": "3.5.1"
  }
 },
 "nbformat": 4,
 "nbformat_minor": 0
}
