{
 "cells": [
  {
   "cell_type": "markdown",
   "metadata": {},
   "source": [
    "For more examples on the Python API visit https://plot.ly/python/ <br>\n",
    "Checkout the API reference for details at https://plot.ly/python/reference/ <br>\n",
    "And other examples for MATLAB, R and JavaScript https://plot.ly/api/"
   ]
  },
  {
   "cell_type": "markdown",
   "metadata": {},
   "source": [
    "Let's import Python's scientific computing library Numpy! To consider any time you use linear algebra."
   ]
  },
  {
   "cell_type": "code",
   "execution_count": 1,
   "metadata": {
    "collapsed": true
   },
   "outputs": [],
   "source": [
    "import numpy as np\n",
    "from IPython.display import display, Math, Latex"
   ]
  },
  {
   "cell_type": "markdown",
   "metadata": {},
   "source": [
    "Let's import Plotly's libraries `plotly` and `graph_obj`."
   ]
  },
  {
   "cell_type": "code",
   "execution_count": 2,
   "metadata": {
    "collapsed": false
   },
   "outputs": [],
   "source": [
    "import plotly.plotly as plotly\n",
    "import plotly.graph_objs as go\n",
    "import matplotlib.pyplot as plt"
   ]
  },
  {
   "cell_type": "markdown",
   "metadata": {},
   "source": [
    "Then let's sign into our account! \n",
    "https://plot.ly/products/cloud/ <br>\n",
    "Get your API key! \n",
    "https://plot.ly/settings/api <br>"
   ]
  },
  {
   "cell_type": "code",
   "execution_count": 3,
   "metadata": {
    "collapsed": false
   },
   "outputs": [],
   "source": [
    "plotly.sign_in('alexandres', 'nc66e5nb14')"
   ]
  },
  {
   "cell_type": "markdown",
   "metadata": {},
   "source": [
    "Twin detectors of the Laser Interferometer Gravitational-Wave Observatory (LIGO) were placed in Livingston (30°N, 91°W) and Hanford (46°N 119°W). "
   ]
  },
  {
   "cell_type": "code",
   "execution_count": 25,
   "metadata": {
    "collapsed": true
   },
   "outputs": [],
   "source": [
    "#############################################\n",
    "# STEP1: DATA\n",
    "#############################################\n",
    "latitude = [30, 46]\n",
    "longitude = [-91, -119]\n",
    "names = ['Livingston', 'Hanford']"
   ]
  },
  {
   "cell_type": "code",
   "execution_count": 26,
   "metadata": {
    "collapsed": false
   },
   "outputs": [],
   "source": [
    "#############################################\n",
    "# STEP2: TRACES\n",
    "#############################################\n",
    "trace_location = {\n",
    "    'type': 'scattergeo',\n",
    "    'lat': latitude,\n",
    "    'lon': longitude,\n",
    "    'text': names,\n",
    "    'marker': {\n",
    "        'size': 10,\n",
    "        'color': ['rgb(255, 0, 0)','rgb(0,0,0)']\n",
    "    }\n",
    "}"
   ]
  },
  {
   "cell_type": "code",
   "execution_count": 27,
   "metadata": {
    "collapsed": false
   },
   "outputs": [],
   "source": [
    "#############################################\n",
    "# STEP3: LAYOUT\n",
    "#############################################\n",
    "layout_location = {\n",
    "    'title': 'Where are Hanford and Livingston LIGO locations?',\n",
    "    'geo': {\n",
    "        'projection': {\n",
    "            'type': 'orthographic'\n",
    "        }\n",
    "    }       \n",
    "}"
   ]
  },
  {
   "cell_type": "code",
   "execution_count": 29,
   "metadata": {
    "collapsed": false
   },
   "outputs": [
    {
     "data": {
      "text/html": [
       "<iframe id=\"igraph\" scrolling=\"no\" style=\"border:none;\"seamless=\"seamless\" src=\"https://plot.ly/~alexandres/101.embed\" height=\"525px\" width=\"100%\"></iframe>"
      ],
      "text/plain": [
       "<plotly.tools.PlotlyDisplay object>"
      ]
     },
     "execution_count": 29,
     "metadata": {},
     "output_type": "execute_result"
    }
   ],
   "source": [
    "#############################################\n",
    "# STEP4: PLOT!\n",
    "#############################################\n",
    "data_location = go.Data([trace_location])\n",
    "figure_location = go.Figure(data = data_location, layout = layout_location)\n",
    "plotly.iplot(figure_location, filename = 'LIGO-locations')"
   ]
  },
  {
   "cell_type": "markdown",
   "metadata": {},
   "source": [
    "Download data and include `readligo` library to read LIGO data from the LIGO website https://losc.ligo.org"
   ]
  },
  {
   "cell_type": "code",
   "execution_count": 11,
   "metadata": {
    "collapsed": true
   },
   "outputs": [],
   "source": [
    "import readligo as rl"
   ]
  },
  {
   "cell_type": "markdown",
   "metadata": {},
   "source": [
    "Read data from the data file."
   ]
  },
  {
   "cell_type": "code",
   "execution_count": 12,
   "metadata": {
    "collapsed": false
   },
   "outputs": [],
   "source": [
    "import json\n",
    "try:\n",
    "    events = json.load(open(\"O1_events.json\",\"r\"))\n",
    "except IOError:\n",
    "    print(\"Cannot find resource file O1_events.json; download it from https://losc.ligo.org/s/events/O1_events.json\")\n",
    "\n",
    "# Extract the parameters for the desired event:\n",
    "event = events['GW151226']\n",
    "fn_H1 = event['fn_H1']              # File name for H1 data\n",
    "fn_L1 = event['fn_L1']              # File name for L1 data\n",
    "fn_template = event['fn_template']  # File name for template waveform\n",
    "fs = event['fs']                    # Set sampling rate\n",
    "tevent = event['tevent']            # Set approximate event GPS time\n",
    "fband = event['fband']              # frequency band for bandpassing signal"
   ]
  },
  {
   "cell_type": "markdown",
   "metadata": {},
   "source": [
    "Let's make some Scatter plots! Use the Plotly cheatsheet to get going quickly! https://images.plot.ly/plotly-documentation/images/python_cheat_sheet.pdf"
   ]
  },
  {
   "cell_type": "code",
   "execution_count": 14,
   "metadata": {
    "collapsed": false
   },
   "outputs": [],
   "source": [
    "#############################################\n",
    "# STEP1: DATA\n",
    "#############################################\n",
    "# First from H1\n",
    "strain_H1, time_H1, chan_dict_H1 = rl.loaddata(fn_H1, 'H1')\n",
    "# and then from L1\n",
    "strain_L1, time_L1, chan_dict_L1 = rl.loaddata(fn_L1, 'L1')\n",
    "\n",
    "# both H1 and L1 will have the same time vector, so:\n",
    "time = time_H1\n",
    "delta_t = 10\n",
    "indxt = np.where((time >= tevent - delta_t) & (time < tevent + delta_t))\n",
    "time_seg = time[indxt] - tevent"
   ]
  },
  {
   "cell_type": "code",
   "execution_count": 22,
   "metadata": {
    "collapsed": false
   },
   "outputs": [],
   "source": [
    "#############################################\n",
    "# STEP2: TRACES\n",
    "#############################################\n",
    "trace_time_series_H1 = {\n",
    "    'type': 'scatter',\n",
    "    'name': 'H1',\n",
    "    'x': time_seg,\n",
    "    'y': strain_H1\n",
    "}\n",
    "trace_time_series_L1 = {\n",
    "    'type': 'scatter',\n",
    "    'name': 'L1',\n",
    "    'x': time_seg,\n",
    "    'y': strain_L1\n",
    "}"
   ]
  },
  {
   "cell_type": "code",
   "execution_count": 19,
   "metadata": {
    "collapsed": false
   },
   "outputs": [],
   "source": [
    "#############################################\n",
    "# STEP3: LAYOUT\n",
    "#############################################\n",
    "layout_time_series = {\n",
    "    'showlegend': True,\n",
    "    'title': \"LIGO strain data \" + str(delta_t) + ' around of the event',\n",
    "    'xaxis': {\n",
    "        'title': 'time [s] since ' + str(tevent) + ' sec',\n",
    "        'titlefont': {\n",
    "            'family': 'Arial, monospace',\n",
    "            'size': 18,\n",
    "            'color': '#ff6600'\n",
    "        }\n",
    "    },\n",
    "    'yaxis': {\n",
    "        'title': '',\n",
    "        'titlefont': {\n",
    "            'family': 'Arial, monospace',\n",
    "            'size': 18,\n",
    "            'color': '#ff6600'\n",
    "        }\n",
    "    }\n",
    "}    "
   ]
  },
  {
   "cell_type": "code",
   "execution_count": 23,
   "metadata": {
    "collapsed": false
   },
   "outputs": [
    {
     "name": "stdout",
     "output_type": "stream",
     "text": [
      "The draw time for this plot will be slow for all clients.\n"
     ]
    },
    {
     "data": {
      "text/html": [
       "<iframe id=\"igraph\" scrolling=\"no\" style=\"border:none;\"seamless=\"seamless\" src=\"https://plot.ly/~alexandres/117.embed\" height=\"525px\" width=\"100%\"></iframe>"
      ],
      "text/plain": [
       "<plotly.tools.PlotlyDisplay object>"
      ]
     },
     "execution_count": 23,
     "metadata": {},
     "output_type": "execute_result"
    }
   ],
   "source": [
    "#############################################\n",
    "# STEP4: PLOT AWAY\n",
    "#############################################\n",
    "data_time_series = go.Data([trace_time_series_H1, trace_time_series_L1])\n",
    "fig_time_series = go.Figure(data = data_time_series, layout = layout_time_series)\n",
    "plotly.iplot(fig_time_series, filename = 'LIGO-time-series')"
   ]
  },
  {
   "cell_type": "markdown",
   "metadata": {},
   "source": [
    "Next, let's try plotting the data in the Fourier domain, using a Fast Fourier Transform (FFT). Because LIGO data has a great deal of excess noise at low frequencies, spectral leakage is often an issue. To mitigate this, we'll apply a Blackman Window before we take the FFT: "
   ]
  },
  {
   "cell_type": "code",
   "execution_count": 17,
   "metadata": {
    "collapsed": false
   },
   "outputs": [
    {
     "data": {
      "text/latex": [
       "$$X_k = \\sum_{N=0}^{N-1} x_n  e^\\dfrac{-2\\pi k n}{N} \\ , \\ k \\ \\epsilon \\ \\mathbb{Z}$$"
      ],
      "text/plain": [
       "<IPython.core.display.Math object>"
      ]
     },
     "metadata": {},
     "output_type": "display_data"
    }
   ],
   "source": [
    "formula_fft = 'X_k = \\sum_{N=0}^{N-1} x_n  e^\\dfrac{-2\\pi k n}{N} \\ , \\ k \\ \\epsilon \\ \\mathbb{Z}'\n",
    "display(Math(formula_fft))"
   ]
  },
  {
   "cell_type": "code",
   "execution_count": 18,
   "metadata": {
    "collapsed": false
   },
   "outputs": [],
   "source": [
    "t_tot = time[-1] - time[0]\n",
    "dt = time[1] - time[0]\n",
    "fs = int(1.0 / dt)\n",
    "\n",
    "window = np.blackman(strain_H1.size)\n",
    "windowed_strain_H1 = strain_H1*window\n",
    "windowed_strain_L1 = strain_L1*window"
   ]
  },
  {
   "cell_type": "code",
   "execution_count": 19,
   "metadata": {
    "collapsed": true
   },
   "outputs": [],
   "source": [
    "#############################################\n",
    "# DATA\n",
    "#############################################\n",
    "freq = np.arange(0, fs, 1.0/t_tot)\n",
    "\n",
    "freq_magnitude_H1 = abs(np.fft.fft(windowed_strain_H1))/t_tot\n",
    "freq_magnitude_L1 = abs(np.fft.fft(windowed_strain_L1))/t_tot"
   ]
  },
  {
   "cell_type": "code",
   "execution_count": 20,
   "metadata": {
    "collapsed": false
   },
   "outputs": [],
   "source": [
    "#############################################\n",
    "# TRACES\n",
    "#############################################\n",
    "trace_fft_H1 = go.Scatter(\n",
    "    name = 'H1 magnitude',\n",
    "    x = freq,\n",
    "    y = freq_magnitude_H1\n",
    ")\n",
    "trace_fft_L1 = go.Scatter(\n",
    "    name = 'L1 magnitude',\n",
    "    x = freq,\n",
    "    y = freq_magnitude_L1\n",
    ")"
   ]
  },
  {
   "cell_type": "code",
   "execution_count": 21,
   "metadata": {
    "collapsed": false
   },
   "outputs": [],
   "source": [
    "#############################################\n",
    "# LAYOUT\n",
    "#############################################\n",
    "layout_fft = go.Layout(\n",
    "    showlegend = True,\n",
    "    title = 'Strain in Frequency Domain',\n",
    "    xaxis = {\n",
    "        'title': 'frequency [Hz]',\n",
    "        'type': 'log',\n",
    "        'titlefont': {\n",
    "            'family': 'Arial, monospace',\n",
    "            'size': 18,\n",
    "            'color': '#ff6600'\n",
    "        }\n",
    "    },\n",
    "    yaxis = {\n",
    "        'title': '$ Hz^{1/2} $',\n",
    "        'type': 'log',\n",
    "        'titlefont': {\n",
    "            'family': 'Arial, monospace',\n",
    "            'size': 18,\n",
    "            'color': '#ff6600'\n",
    "        }\n",
    "    }\n",
    ")   "
   ]
  },
  {
   "cell_type": "code",
   "execution_count": 22,
   "metadata": {
    "collapsed": true
   },
   "outputs": [],
   "source": [
    "data_fft = go.Data([trace_fft_H1, trace_fft_L1])\n",
    "fig_fft = go.Figure(data = data_fft, layout = layout_fft)"
   ]
  },
  {
   "cell_type": "code",
   "execution_count": 23,
   "metadata": {
    "collapsed": false,
    "scrolled": false
   },
   "outputs": [
    {
     "name": "stdout",
     "output_type": "stream",
     "text": [
      "The draw time for this plot will be slow for all clients.\n"
     ]
    },
    {
     "data": {
      "text/html": [
       "<iframe id=\"igraph\" scrolling=\"no\" style=\"border:none;\"seamless=\"seamless\" src=\"https://plot.ly/~alexandres/109.embed\" height=\"525px\" width=\"100%\"></iframe>"
      ],
      "text/plain": [
       "<plotly.tools.PlotlyDisplay object>"
      ]
     },
     "execution_count": 23,
     "metadata": {},
     "output_type": "execute_result"
    }
   ],
   "source": [
    "plotly.iplot(fig_fft, filename = 'LIGO-frequency-distribution')"
   ]
  },
  {
   "cell_type": "code",
   "execution_count": null,
   "metadata": {
    "collapsed": false
   },
   "outputs": [
    {
     "data": {
      "text/plain": [
       "<matplotlib.text.Text at 0x10b823550>"
      ]
     },
     "execution_count": 24,
     "metadata": {},
     "output_type": "execute_result"
    }
   ],
   "source": [
    "#############################################\n",
    "# DATA\n",
    "#############################################\n",
    "fileName = 'H-H1_LOSC_4_V1-815411200-4096.hdf5'\n",
    "strain, time, channel_dict = rl.loaddata(fileName)\n",
    "ts = time[1] - time[0]      #-- Time between samples\n",
    "fs = int(1.0 / ts)          #-- Sampling frequency\n",
    "\n",
    "#-- Choose a few seconds of \"good data\"\n",
    "segList = rl.dq_channel_to_seglist(channel_dict['DEFAULT'], fs)\n",
    "length = 16  # seconds\n",
    "strain_seg = strain[segList[0]][0:(length*fs)]\n",
    "time_seg = time[segList[0]][0:(length*fs)]\n",
    "\n",
    "\n",
    "NFFT = 1024\n",
    "window = np.blackman(NFFT)\n",
    "spec_power, freqs, bins, im = plt.specgram(strain_seg, NFFT=NFFT, Fs=fs, \n",
    "                                    window=window)\n",
    "plt.xlabel('Time (s)')\n",
    "plt.ylabel('Freq (Hz)')\n"
   ]
  },
  {
   "cell_type": "code",
   "execution_count": null,
   "metadata": {
    "collapsed": true
   },
   "outputs": [],
   "source": [
    "plt.show()"
   ]
  },
  {
   "cell_type": "code",
   "execution_count": null,
   "metadata": {
    "collapsed": true
   },
   "outputs": [],
   "source": [
    "#############################################\n",
    "# TRACES\n",
    "#############################################\n",
    "trace_frequency_heatmap_H1 = go.Heatmap(\n",
    "    z = spec_power,\n",
    "    y = freqs,\n",
    "    x = bins\n",
    ")"
   ]
  },
  {
   "cell_type": "code",
   "execution_count": null,
   "metadata": {
    "collapsed": true
   },
   "outputs": [],
   "source": [
    "#############################################\n",
    "# LAYOUT\n",
    "#############################################\n"
   ]
  },
  {
   "cell_type": "code",
   "execution_count": null,
   "metadata": {
    "collapsed": true
   },
   "outputs": [],
   "source": [
    "data_frequency_heatmap = go.Data([trace_frequency_heatmap_H1])"
   ]
  },
  {
   "cell_type": "code",
   "execution_count": null,
   "metadata": {
    "collapsed": false
   },
   "outputs": [],
   "source": [
    "plotly.iplot([trace_frequency_heatmap_H1], filename = 'frequency_heatmap')"
   ]
  },
  {
   "cell_type": "code",
   "execution_count": null,
   "metadata": {
    "collapsed": true
   },
   "outputs": [],
   "source": [
    "import plotly.tools as tls"
   ]
  },
  {
   "cell_type": "code",
   "execution_count": null,
   "metadata": {
    "collapsed": false,
    "scrolled": false
   },
   "outputs": [],
   "source": [
    "tls.embed('https://plot.ly/~empet/13564/gravitational-waves/')"
   ]
  },
  {
   "cell_type": "code",
   "execution_count": null,
   "metadata": {
    "collapsed": false
   },
   "outputs": [],
   "source": [
    "tls.embed('https://plot.ly/~alexandres/115/ok-hs-physics-teachers/')"
   ]
  },
  {
   "cell_type": "code",
   "execution_count": null,
   "metadata": {
    "collapsed": false,
    "scrolled": false
   },
   "outputs": [],
   "source": [
    "tls.embed('https://plot.ly/~alexandres/114/')"
   ]
  },
  {
   "cell_type": "code",
   "execution_count": null,
   "metadata": {
    "collapsed": false
   },
   "outputs": [],
   "source": [
    "tls.embed('https://plot.ly/~empet/13810/')"
   ]
  },
  {
   "cell_type": "code",
   "execution_count": null,
   "metadata": {
    "collapsed": false
   },
   "outputs": [],
   "source": [
    "tls.embed('https://plot.ly/~empet/13870/')"
   ]
  },
  {
   "cell_type": "code",
   "execution_count": null,
   "metadata": {
    "collapsed": false
   },
   "outputs": [],
   "source": [
    "tls.embed('https://plot.ly/~empet/13872')"
   ]
  },
  {
   "cell_type": "code",
   "execution_count": null,
   "metadata": {
    "collapsed": true
   },
   "outputs": [],
   "source": []
  }
 ],
 "metadata": {
  "kernelspec": {
   "display_name": "Python 2",
   "language": "python",
   "name": "python2"
  },
  "language_info": {
   "codemirror_mode": {
    "name": "ipython",
    "version": 2
   },
   "file_extension": ".py",
   "mimetype": "text/x-python",
   "name": "python",
   "nbconvert_exporter": "python",
   "pygments_lexer": "ipython2",
   "version": "2.7.11"
  }
 },
 "nbformat": 4,
 "nbformat_minor": 0
}
